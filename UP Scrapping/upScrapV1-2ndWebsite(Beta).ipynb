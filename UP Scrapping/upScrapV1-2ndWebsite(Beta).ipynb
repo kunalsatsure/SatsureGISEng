{
 "cells": [
  {
   "cell_type": "code",
   "execution_count": null,
   "metadata": {},
   "outputs": [],
   "source": [
    "from selenium import webdriver\n",
    "from selenium.webdriver.common.by import By\n",
    "from selenium.webdriver.common.alert import Alert\n",
    "import time\n",
    "from selenium.webdriver.support.ui import WebDriverWait, Select\n",
    "from selenium.webdriver.support import expected_conditions as EC\n",
    "import pandas as pd\n",
    "import json\n",
    "from collections import defaultdict"
   ]
  },
  {
   "cell_type": "markdown",
   "metadata": {},
   "source": [
    "## Declare the Node Class to Store Data"
   ]
  },
  {
   "cell_type": "code",
   "execution_count": null,
   "metadata": {},
   "outputs": [],
   "source": [
    "class Node:\n",
    "    def __init__(self, name, level = 'Root', parent=None):\n",
    "        self.name = name\n",
    "        self.parent = parent\n",
    "        self.properties = {}\n",
    "        self.children = {}\n",
    "        self.completed = False\n",
    "        self.level = level\n",
    "        self.remrks = None\n",
    "\n",
    "    def mark_complete(self):\n",
    "        self.completed = True\n",
    "\n",
    "    def add_child(self, child_node):\n",
    "        self.children[child_node.name] = child_node\n",
    "\n",
    "    def find_child_by_name(self, name):\n",
    "        return self.children.get(name, None)\n",
    "    \n",
    "    def to_dict(self):\n",
    "        node_dict = {\n",
    "            \"name\": self.name,\n",
    "            \"level\": self.level,\n",
    "            \"properties\": self.properties,\n",
    "            \"completed\": self.completed,\n",
    "            \"remarks\": self.remrks\n",
    "        }\n",
    "        if self.children:\n",
    "            node_dict[\"children\"] = [child_node.to_dict() for child_node in self.children.values()]\n",
    "        return node_dict\n",
    "  \n",
    "    def __str__(self):\n",
    "        return self.name"
   ]
  },
  {
   "cell_type": "markdown",
   "metadata": {},
   "source": [
    "## Set WebDriver to Fetch All District Info (First Level)"
   ]
  },
  {
   "cell_type": "code",
   "execution_count": null,
   "metadata": {},
   "outputs": [],
   "source": [
    "# Set up the WebDriver (make sure to specify your path if needed)\n",
    "driver = webdriver.ChromiumEdge()  # or webdriver.Firefox()\n",
    "try:\n",
    "    # Open the main page\n",
    "    driver.get(\"https://upbhulekh.gov.in/GeoDashboard/public_report/\")\n",
    "\n",
    "    # Wait for the page to load\n",
    "    time.sleep(5)\n",
    "\n",
    "    # Handle any alerts if present\n",
    "    try:\n",
    "        Alert(driver).accept()\n",
    "    except:\n",
    "        pass\n",
    "\n",
    "    # Wait for the specific element to be clickable\n",
    "    # Find the table rows\n",
    "    rows = driver.find_elements(By.CSS_SELECTOR, 'table tbody tr')\n",
    "\n",
    "    # Extract district names and distCodes\n",
    "    districts = []\n",
    "\n",
    "    for row in rows:\n",
    "        cells = row.find_elements(By.TAG_NAME, 'td')\n",
    "        if cells:\n",
    "            district_name = cells[1].text  # the district is in the second column\n",
    "            dist_code_link = cells[1].find_element(By.TAG_NAME, 'a')\n",
    "            dist_code = dist_code_link.get_attribute('href').split('=')[-1]\n",
    "            districts.append((district_name, dist_code))\n",
    "    \n",
    "except Exception as e:\n",
    "    print(f'Error - {e}')"
   ]
  },
  {
   "cell_type": "markdown",
   "metadata": {},
   "source": [
    "### Delcare the Main Node -- Start Processing Teshil Level / District (Second Level)"
   ]
  },
  {
   "cell_type": "code",
   "execution_count": null,
   "metadata": {},
   "outputs": [],
   "source": [
    "mainRoot = Node('MainRoot')\n",
    "teshEntry = defaultdict(list)\n",
    "try:\n",
    "    for dist in districts:\n",
    "            distNode = Node(dist[0], 'district')\n",
    "            distNode.properties['id'] = dist[1]\n",
    "            mainRoot.add_child(distNode)\n",
    "            driver.get(f'https://upbhulekh.gov.in/GeoDashboard/public_report/?distCode={dist[1]}')\n",
    "            time.sleep(2)\n",
    "            rowTesh = driver.find_elements(By.CSS_SELECTOR, 'table tbody tr')\n",
    "            for rT in rowTesh:\n",
    "                tCell = rT.find_elements(By.TAG_NAME, 'td')\n",
    "                if tCell:\n",
    "                    tesh_name = tCell[2].text  # Assuming the district is in the second column\n",
    "                    tesh_code_link = tCell[2].find_element(By.TAG_NAME, 'a')\n",
    "                    tesh_code = tesh_code_link.get_attribute('href').split('=')[-1]\n",
    "                    print(tesh_name, tesh_code)\n",
    "                    teshNode = Node(tesh_name, 'teshil')\n",
    "                    teshNode.properties['id'] = tesh_code\n",
    "                    teshNode.parent = dist[0]\n",
    "                    distNode.add_child(teshNode)\n",
    "                    teshEntry[(dist[0], dist[1])].append((tesh_code, tesh_name))\n",
    "except Exception as e:\n",
    "    print(f'Error Occured During Teshil Process {e}')        "
   ]
  },
  {
   "cell_type": "markdown",
   "metadata": {},
   "source": [
    "### Start Processing Village Level / Teshil / District (Third Level) - Add All Village Data to respected parent node"
   ]
  },
  {
   "cell_type": "code",
   "execution_count": null,
   "metadata": {},
   "outputs": [],
   "source": [
    "try:\n",
    "    for key in teshEntry:\n",
    "        distMainNode = mainRoot.find_child_by_name(key[0])\n",
    "        for teshilCode in teshEntry[key]:\n",
    "            #find district node and tesh node\n",
    "            teshMainNode = distMainNode.find_child_by_name(teshilCode[1])\n",
    "            driver.get(f'https://upbhulekh.gov.in/GeoDashboard/public_report/?distCode={key[1]}&tehsilCode={teshilCode[0]}')\n",
    "            time.sleep(2)\n",
    "            rowVill = driver.find_elements(By.CSS_SELECTOR, 'table tbody tr')\n",
    "            for vill in rowVill:\n",
    "                villCell = vill.find_elements(By.TAG_NAME, 'td')\n",
    "                if villCell:\n",
    "                    vill_name = villCell[3].text \n",
    "                    vill_code = villCell[4].text\n",
    "                    villNode = Node(vill_name, 'village')\n",
    "                    villNode.properties['id'] = vill_code\n",
    "                    villNode.parent = tesh_name\n",
    "                    villNode.mark_complete()\n",
    "                    teshMainNode.add_child(villNode)\n",
    "            teshMainNode.mark_complete()\n",
    "        distMainNode.mark_complete()\n",
    "except Exception as e:\n",
    "    print(f'Error Occured During Village Process {e}')"
   ]
  },
  {
   "cell_type": "markdown",
   "metadata": {},
   "source": [
    "#### Convert Mainroot to .json and .json to DF "
   ]
  },
  {
   "cell_type": "code",
   "execution_count": null,
   "metadata": {},
   "outputs": [],
   "source": [
    "def processRoot(root, filename):\n",
    "    with open(filename, 'w', encoding='utf-8') as f:\n",
    "        # Initialize an empty list to hold JSON objects\n",
    "        json_list = []\n",
    "        \n",
    "        # Iterate over each district in root.children\n",
    "        for dist in root.children:\n",
    "            # Convert the district data to dictionary\n",
    "            district_data = root.children[dist].to_dict()\n",
    "            \n",
    "            # Append district_data to json_list\n",
    "            json_list.append(district_data)\n",
    "        \n",
    "        # Write the entire json_list to file as a JSON array\n",
    "        json.dump(json_list, f, ensure_ascii=False, indent=4)"
   ]
  },
  {
   "cell_type": "code",
   "execution_count": null,
   "metadata": {},
   "outputs": [],
   "source": [
    "processRoot(mainRoot, 'UP Scrap Test 2.json')"
   ]
  },
  {
   "cell_type": "code",
   "execution_count": null,
   "metadata": {},
   "outputs": [],
   "source": [
    "def jsonToDf(jsonfilepath='checkpoint.json'):\n",
    "    with open(jsonfilepath, 'r', encoding='utf-8') as f:\n",
    "        data = json.load(f)\n",
    "\n",
    "    # Flatten JSON and create DataFrame\n",
    "    df = pd.DataFrame([\n",
    "        (dist['name'], dist['properties']['id'], tehsil['name'], tehsil['properties']['id'], \n",
    "         village['name'] if tehsil.get('children') else \"No Data Found\", \n",
    "         village['properties']['id'] if tehsil.get('children') else \"No Data Found\")\n",
    "        for dist in data\n",
    "        for tehsil in dist.get('children', [])\n",
    "        for village in (tehsil['children'] if tehsil.get('children') else [{\"name\": \"No Data Found\", \"properties\": {\"id\": \"No Data Found\"}}])\n",
    "    ], columns=['district', 'district_id', 'tehsil', 'tehsil_id', 'village', 'village_id'])\n",
    "\n",
    "    return df"
   ]
  },
  {
   "cell_type": "code",
   "execution_count": null,
   "metadata": {},
   "outputs": [],
   "source": [
    "resultUp  = jsonToDf('UP Scrap 2ndWebsite.json')\n",
    "resultUp.to_csv('UP_Scrap_2ndWebsite.csv', encoding='utf-8', index=False)"
   ]
  }
 ],
 "metadata": {
  "language_info": {
   "name": "python"
  }
 },
 "nbformat": 4,
 "nbformat_minor": 2
}

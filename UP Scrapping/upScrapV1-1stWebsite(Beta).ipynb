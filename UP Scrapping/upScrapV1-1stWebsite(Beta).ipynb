{
 "cells": [
  {
   "cell_type": "code",
   "execution_count": null,
   "metadata": {},
   "outputs": [],
   "source": [
    "from selenium import webdriver\n",
    "from selenium.webdriver.common.by import By\n",
    "from selenium.webdriver.common.alert import Alert\n",
    "import time\n",
    "from selenium.webdriver.support.ui import WebDriverWait, Select\n",
    "from selenium.webdriver.support import expected_conditions as EC\n",
    "import pandas as pd\n",
    "import json"
   ]
  },
  {
   "cell_type": "markdown",
   "metadata": {},
   "source": [
    "## Declare the Node Class to Store Data"
   ]
  },
  {
   "cell_type": "code",
   "execution_count": null,
   "metadata": {},
   "outputs": [],
   "source": [
    "class Node:\n",
    "    def __init__(self, name, level = 'Root', parent=None):\n",
    "        self.name = name\n",
    "        self.parent = parent\n",
    "        self.properties = {}\n",
    "        self.children = {}\n",
    "        self.completed = False\n",
    "        self.level = level\n",
    "        self.remrks = None\n",
    "\n",
    "    def mark_complete(self):\n",
    "        self.completed = True\n",
    "\n",
    "    def add_child(self, child_node):\n",
    "        self.children[child_node.name] = child_node\n",
    "\n",
    "    def find_child_by_name(self, name):\n",
    "        return self.children.get(name, None)\n",
    "    \n",
    "    def to_dict(self):\n",
    "        node_dict = {\n",
    "            \"name\": self.name,\n",
    "            \"level\": self.level,\n",
    "            \"properties\": self.properties,\n",
    "            \"completed\": self.completed,\n",
    "            \"remarks\": self.remrks\n",
    "        }\n",
    "        if self.children:\n",
    "            node_dict[\"children\"] = [child_node.to_dict() for child_node in self.children.values()]\n",
    "        return node_dict\n",
    "  \n",
    "    def __str__(self):\n",
    "        return self.name"
   ]
  },
  {
   "cell_type": "markdown",
   "metadata": {},
   "source": [
    "## Set WebDriver to Fetch All District Info (First Level) "
   ]
  },
  {
   "cell_type": "code",
   "execution_count": null,
   "metadata": {},
   "outputs": [],
   "source": [
    "\n",
    "\n",
    "# Set up the WebDriver (make sure to specify your path if needed)\n",
    "driver = webdriver.ChromiumEdge()  # or webdriver.Firefox()\n",
    "try:\n",
    "    # Open the main page\n",
    "    driver.get(\"https://upbhulekh.gov.in/\")\n",
    "\n",
    "    # Wait for the page to load\n",
    "    time.sleep(5)\n",
    "\n",
    "    # Handle any alerts if present\n",
    "    try:\n",
    "        Alert(driver).accept()\n",
    "    except:\n",
    "        pass\n",
    "\n",
    "\n",
    "    # Wait for the specific element to be clickable\n",
    "    real_time_link = WebDriverWait(driver, 20).until(\n",
    "        EC.element_to_be_clickable((By.XPATH, \"//div[@class='feature-content']/h3[text()='रियल टाइम खतौनी की नक़ल देखे']\"))\n",
    "    )\n",
    "\n",
    "    # Click the element\n",
    "    real_time_link.click()\n",
    "\n",
    "    time.sleep(2)\n",
    "\n",
    "    # Get the captcha text from the hidden input\n",
    "    captcha_text = driver.find_element(By.ID, \"txtCaptcha1\").get_attribute(\"value\")\n",
    "    print(f\"Captcha text: {captcha_text}\")\n",
    "\n",
    "    # Enter the captcha into the input field\n",
    "    captcha_input = driver.find_element(By.ID, \"Captcha1\")\n",
    "    captcha_input.send_keys(captcha_text)\n",
    "\n",
    "    submitButton = driver.find_element(By.ID,  \"btnValid\")\n",
    "    submitButton.submit()\n",
    "\n",
    "except Exception as e:\n",
    "    print(f'Error - {e}')"
   ]
  },
  {
   "cell_type": "code",
   "execution_count": null,
   "metadata": {},
   "outputs": [],
   "source": [
    "\n",
    "#Delcare the Main Node\n",
    "mainRoot = Node('MainRoot')\n",
    "districts = driver.find_elements(By.XPATH, \"//ul[@id='district']/li/a\")\n",
    "\n",
    "# Extract and print district names and their data-value\n",
    "for district in districts:\n",
    "    district_name = district.find_element(By.CLASS_NAME, \"text\").text\n",
    "    district_value = district.get_attribute(\"data-value\")\n",
    "    print(f\"District: {district_name}, Data-Value: {district_value}\")\n",
    "    distNode = Node(district_name, 'district')\n",
    "    distNode.properties['id'] = district_value\n",
    "    mainRoot.add_child(distNode)"
   ]
  },
  {
   "cell_type": "markdown",
   "metadata": {},
   "source": [
    "### Start Processing Teshil Level / District (Second Level)\n",
    "#### Start Processing Village Level / Teshil / District (Third Level) - Add All Village Data to respected parent node"
   ]
  },
  {
   "cell_type": "code",
   "execution_count": null,
   "metadata": {},
   "outputs": [],
   "source": [
    "# Extract and print Teshil names and their data-value\n",
    "try:\n",
    "    for district in districts:\n",
    "        district_name = district.find_element(By.CLASS_NAME, \"text\").text\n",
    "        parentdisTrictRoot = mainRoot.find_child_by_name(district_name)\n",
    "        district.click()\n",
    "        time.sleep(2)\n",
    "        teshil = driver.find_elements(By.XPATH, \"//ul[@id='tehsil']/li/a\")\n",
    "        for th in teshil:\n",
    "            teshil_name = th.find_element(By.CLASS_NAME, \"text\").text\n",
    "            teshil_value = th.get_attribute(\"data-value\")\n",
    "            print(f\"Teshil: {teshil_name}, Data-Value: {teshil_value}\")\n",
    "            teshNode = Node(teshil_name, 'teshil')\n",
    "            teshNode.properties['id'] = teshil_value\n",
    "            teshNode.parent = district_name\n",
    "            parentdisTrictRoot.add_child(teshNode)\n",
    "\n",
    "            #now start the process of village level \n",
    "            th.click()\n",
    "            time.sleep(3)\n",
    "            villages = driver.find_elements(By.XPATH, \"//ul[@id='village']/li/a\")\n",
    "            #now scrap all village data \n",
    "            for village in villages:\n",
    "                village_name = village.find_element(By.CLASS_NAME, \"text\").text\n",
    "                village_value = village.find_elements(By.CLASS_NAME, \"text\")[1].text\n",
    "                print(f\"Village: {village_name}, Data-Value: {village_value}\")\n",
    "                villNode = Node(village_name, 'village')\n",
    "                villNode.properties['id'] = village_value\n",
    "                villNode.parent = teshil_name\n",
    "                teshNode.add_child(villNode)\n",
    "                villNode.mark_complete()\n",
    "            teshNode.mark_complete()\n",
    "        parentdisTrictRoot.mark_complete()\n",
    "except Exception as e:\n",
    "    print(f'Error Occured During Whole Process {e}')"
   ]
  },
  {
   "cell_type": "markdown",
   "metadata": {},
   "source": [
    "#### Convert Mainroot to .json and .json to DF "
   ]
  },
  {
   "cell_type": "code",
   "execution_count": null,
   "metadata": {},
   "outputs": [],
   "source": [
    "def processRoot(root, filename):\n",
    "    with open(filename, 'w', encoding='utf-8') as f:\n",
    "        # Initialize an empty list to hold JSON objects\n",
    "        json_list = []\n",
    "        \n",
    "        # Iterate over each district in root.children\n",
    "        for dist in root.children:\n",
    "            # Convert the district data to dictionary\n",
    "            district_data = root.children[dist].to_dict()\n",
    "            \n",
    "            # Append district_data to json_list\n",
    "            json_list.append(district_data)\n",
    "        \n",
    "        # Write the entire json_list to file as a JSON array\n",
    "        json.dump(json_list, f, ensure_ascii=False, indent=4)"
   ]
  },
  {
   "cell_type": "code",
   "execution_count": null,
   "metadata": {},
   "outputs": [],
   "source": [
    "processRoot(mainRoot, 'UP Scrap Test.json')"
   ]
  },
  {
   "cell_type": "code",
   "execution_count": null,
   "metadata": {},
   "outputs": [],
   "source": [
    "def jsonToDf(jsonfilepath='checkpoint.json'):\n",
    "    with open(jsonfilepath, 'r', encoding='utf-8') as f:\n",
    "        data = json.load(f)\n",
    "\n",
    "    # Flatten JSON and create DataFrame\n",
    "    df = pd.DataFrame([\n",
    "        (dist['name'], dist['properties']['id'], tehsil['name'], tehsil['properties']['id'], \n",
    "         village['name'] if tehsil.get('children') else \"No Data Found\", \n",
    "         village['properties']['id'] if tehsil.get('children') else \"No Data Found\")\n",
    "        for dist in data\n",
    "        for tehsil in dist.get('children', [])\n",
    "        for village in (tehsil['children'] if tehsil.get('children') else [{\"name\": \"No Data Found\", \"properties\": {\"id\": \"No Data Found\"}}])\n",
    "    ], columns=['district', 'district_id', 'tehsil', 'tehsil_id', 'village', 'village_id'])\n",
    "\n",
    "    return df"
   ]
  },
  {
   "cell_type": "code",
   "execution_count": null,
   "metadata": {},
   "outputs": [],
   "source": [
    "resultUp  = jsonToDf('UP Scrap 1stWebsite.json')\n",
    "resultUp.to_csv('UP_Scrap_1stWebsite.csv', encoding='utf-8', index=False)"
   ]
  }
 ],
 "metadata": {
  "language_info": {
   "name": "python"
  }
 },
 "nbformat": 4,
 "nbformat_minor": 2
}

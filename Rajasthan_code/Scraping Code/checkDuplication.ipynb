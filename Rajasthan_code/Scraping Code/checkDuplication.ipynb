{
 "cells": [
  {
   "cell_type": "code",
   "execution_count": null,
   "metadata": {},
   "outputs": [],
   "source": [
    "# Combine DataFrames\n",
    "#df_a is dropdown data, df_b map data\n",
    "df_combined = pd.concat([df_a, df_b]).assign(combined_key = lambda file: file.apply(lambda x: \"_\".join(\n",
    "    [x['district_id'] if pd.notna(x['district_id']) else \"NONE\" ,\n",
    "    x['tehsil'] if pd.notna(x['tehsil']) else \"NONE\",\n",
    "    x['village'] if pd.notna(x['village']) else \"NONE\",\n",
    "    x['village_id'] if pd.notna(x['village_id']) else \"NONE\"]\n",
    "),axis=1))"
   ]
  },
  {
   "cell_type": "markdown",
   "metadata": {},
   "source": [
    "# Method 1"
   ]
  },
  {
   "cell_type": "code",
   "execution_count": null,
   "metadata": {},
   "outputs": [],
   "source": [
    "count_series = df_combined['combined_key'].value_counts()\n",
    "\n",
    "# Identify keys that appear in multiple tehsils\n",
    "duplicate_keys = count_series[count_series > 1].index.tolist()\n",
    "\n",
    "# Filter the DataFrame to keep only relevant entries\n",
    "df_duplicates = df_combined[df_combined['combined_key'].isin(duplicate_keys)]\n",
    "\n",
    "# Sort and drop duplicates based on priority -- here dropdown most priority\n",
    "df_final = df_combined.drop_duplicates(subset=['combined_key'], keep='first')\n",
    "\n",
    "df_final"
   ]
  },
  {
   "cell_type": "markdown",
   "metadata": {},
   "source": [
    "# Method 2"
   ]
  },
  {
   "cell_type": "code",
   "execution_count": null,
   "metadata": {},
   "outputs": [],
   "source": [
    "df_merge = df_combined.merge(df_combined.groupby(by='combined_key',as_index=False).agg({'tehsil_id':list}),\n",
    "                  how='left',\n",
    "                  on='combined_key').drop_duplicates(subset='combined_key').assign(**{'tehsil_id_x':lambda file: file.apply(lambda x: [i for i in x['tehsil_id_y'] if bool(re.search(r'^ctl00_ContentPlaceHolder1',i))][0] if \n",
    "                                                                                                                                      len(x['tehsil_id_y'])>1 else x['tehsil_id_y'][0],axis=1)})\n",
    "\n",
    "\n",
    "# Drop combined_key and rename columns\n",
    "df_final = df_merge.drop(columns=['combined_key']).rename(\n",
    "    columns={\n",
    "        'tehsil_id_x': 'tehsil_id_dropdown',\n",
    "        'tehsil_id_y': 'tehsil_id_map'\n",
    "    }\n",
    ")\n",
    "\n"
   ]
  },
  {
   "cell_type": "code",
   "execution_count": null,
   "metadata": {},
   "outputs": [],
   "source": [
    "df_final.to_csv('RJ Master Sheet.csv', index=False, encoding='utf-8')"
   ]
  }
 ],
 "metadata": {
  "kernelspec": {
   "display_name": "Python 3",
   "language": "python",
   "name": "python3"
  },
  "language_info": {
   "codemirror_mode": {
    "name": "ipython",
    "version": 3
   },
   "file_extension": ".py",
   "mimetype": "text/x-python",
   "name": "python",
   "nbconvert_exporter": "python",
   "pygments_lexer": "ipython3",
   "version": "3.10.13"
  }
 },
 "nbformat": 4,
 "nbformat_minor": 2
}
